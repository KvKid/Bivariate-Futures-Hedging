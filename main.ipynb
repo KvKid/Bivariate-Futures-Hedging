{
 "cells": [
  {
   "cell_type": "code",
   "execution_count": 5,
   "id": "20584829-eee0-4c4e-a928-da392326aad2",
   "metadata": {},
   "outputs": [],
   "source": [
    "import pandas as pd\n",
    "import numpy as np\n",
    "import matplotlib.pyplot as plt\n",
    "from datetime import datetime"
   ]
  },
  {
   "cell_type": "code",
   "execution_count": 2,
   "id": "52d00b98-2440-4092-9978-cbac5897d723",
   "metadata": {},
   "outputs": [],
   "source": [
    "#read the files\n",
    "fA = pd.read_csv('./futuresA.csv')\n",
    "fB = pd.read_csv('./futuresB.csv')"
   ]
  },
  {
   "cell_type": "code",
   "execution_count": 3,
   "id": "081b67e6",
   "metadata": {},
   "outputs": [
    {
     "name": "stdout",
     "output_type": "stream",
     "text": [
      "Futures A has 127 null values\n",
      "Futures B has 0 null values\n"
     ]
    }
   ],
   "source": [
    "#Count the nonzero data\n",
    "print('Futures A has ' + str(list(fA.isna().sum())[1]) + ' null values')\n",
    "print('Futures B has ' + str(list(fB.isna().sum())[1]) + ' null values')"
   ]
  },
  {
   "attachments": {},
   "cell_type": "markdown",
   "id": "155e459a-8d2c-4d5f-bf96-ac74212e8f47",
   "metadata": {},
   "source": [
    "Upon closer investigation of the indexes and prices we observe that the data has missing values for several periods of consecutive days. The lack of data and variety of range of endpoints may entertain the possibility that the standard deviation spikes or flat lines. For this reason, we exclude these datapoints. We decide not to trade on these dates (liquidate our positions) since we would not want to base our trades on potentially dangerous information that is incorportated into our standard deviation."
   ]
  },
  {
   "cell_type": "code",
   "execution_count": 4,
   "id": "f1c9fe90-705b-4efc-9fc5-a4c5d4f18834",
   "metadata": {},
   "outputs": [],
   "source": [
    "#Set indexes to Date\n",
    "fA.index = fA['Date']\n",
    "del fA['Date']\n",
    "fB.index = fB['Date']\n",
    "del fB['Date']\n",
    "\n",
    "#Flip data so most recent data is furthest down (when we iterate through these, we decide to look at time descending through the dataframe\n",
    "fA = fA.reindex(index=fA.index[::-1])\n",
    "fB = fB.reindex(index=fB.index[::-1])\n",
    "\n",
    "fA.index = pd.to_datetime(fA.index,format = '%d/%m/%Y')\n",
    "fB.index = pd.to_datetime(fB.index,format = '%d/%m/%Y')\n",
    "\n",
    "fA = fA.rename(columns = {'Last':'fAclose'})\n",
    "fB = fB.rename(columns = {'Close':'fBclose'})"
   ]
  },
  {
   "cell_type": "code",
   "execution_count": null,
   "id": "fa093e3f-9596-4e99-8bf4-793035bf1b2b",
   "metadata": {},
   "outputs": [],
   "source": [
    "class strategy:\n",
    "    def __init__(self,x,y,l,s,n,fA,fB):\n",
    "        #Define paramaters of our strategy as described in the description\n",
    "        self.X = x\n",
    "        self.Y = y\n",
    "        self.L = l\n",
    "        self.S = s\n",
    "        self.N = n\n",
    "        self.fA = fA\n",
    "        self.fB = fB\n",
    "\n",
    "    #Generate long/short signals. We compute the conditions to buy or sell as outlined in the specification\n",
    "    def generateconditions(self):\n",
    "        #prepare the data:\n",
    "        \n",
    "        #add running moving average of past N days (including the day itself)\n",
    "        #merge dataframes using the date as a common theme to connect with\n",
    "        data = pd.merge(self.fA, self.fB, left_index=True, right_index=True,how = 'outer') # Perform an outer join\n",
    "        #compute running standrad deviation of price B\n",
    "        data['SD_N'] = self.runningsd(list(data['fBclose']),self.N)\n",
    "        data['longsignal']  = data['fBclose']-self.X*data['SD_N'] # if this is <0 then we will open a long position\n",
    "        data['shortsignal'] = data['fBclose']-self.Y*data['SD_N']  # of this is >0 then we will open a short position\n",
    "        self.data = data\n",
    "        return(data)\n",
    "    \n",
    "    #find indicies that our strategy generates for long positions\n",
    "    def generate_buy_indicies(self, longdata):\n",
    "        i = 0\n",
    "        long = {}\n",
    "        \n",
    "        while i<len(longdata):\n",
    "            #if buy conditions are met\n",
    "            if longdata[i] < 0:\n",
    "                #take a long position in futures A\n",
    "                long[i] = 1\n",
    "            else:\n",
    "                #close long position if coniditons fail\n",
    "                long[i] = 0\n",
    "            i+=1\n",
    "        return(long)\n",
    "    \n",
    "    #find indicies that our strategy generates for short positions\n",
    "    def generate_sell_indicies(self, selldata):\n",
    "        short = {}\n",
    "        i = 0\n",
    "        while i < len(selldata):\n",
    "            #if short conidtions are met\n",
    "            if selldata[i]>0:\n",
    "                #take a position in futures A\n",
    "                short[i] = 1\n",
    "            else:\n",
    "                #close short position if not met\n",
    "                short[i] = 0\n",
    "            i+=1\n",
    "        return(short)\n",
    "    \n",
    "    #generate moving estimate of variance\n",
    "    def runningsd(self,array,N):\n",
    "        array = np.array(array)\n",
    "        sdarray = np.zeros(len(array))\n",
    "        for i in range(N-1,len(array)):\n",
    "            #Use degrees of freedom of 1 since we are systematically sampling from the population\n",
    "            sdarray[i] = np.std(array[i-N+1:i+1],ddof=1)\n",
    "        return(sdarray)"
   ]
  },
  {
   "cell_type": "code",
   "execution_count": null,
   "id": "e07cacdc-faa1-4f9b-a5e4-2086cb98d1d3",
   "metadata": {},
   "outputs": [],
   "source": [
    "class Portfolio:\n",
    "    def __init__(self,data,strat):\n",
    "        self.data = data\n",
    "        self.strat = strat\n",
    "\n",
    "    def convert_indicies_to_realised_profit_short(self,signal,amount):\n",
    "        priceA = list(self.data['fAclose'])\n",
    "        i= 0\n",
    "        short_array = list(signal.values())\n",
    "        pnl = np.zeros(len(priceA))\n",
    "        while i<len(short_array):\n",
    "            #if we are told to not enter a poisition\n",
    "            if short_array[i] == 0:\n",
    "                #we don't get anything\n",
    "                pnl[i] = 0\n",
    "                i+=1\n",
    "            else:\n",
    "                #if we are told to enter a position\n",
    "                pnl[i] = 0\n",
    "                #we note the starting price\n",
    "                startprice = priceA[i]\n",
    "                #we find the next value which returns 0 - indicates we close our position\n",
    "                while short_array[i] == 1 and i<len(short_array):\n",
    "                    if i<len(short_array)-1:\n",
    "                        i+=1\n",
    "                    else:\n",
    "                        break\n",
    "                #note that we exit our positions on the most recent dataentry of our position\n",
    "                closeprice = priceA[i]\n",
    "                pnl[i] = (closeprice-startprice)*amount\n",
    "                i+=1\n",
    "        return(pnl)\n",
    "    \n",
    "    def generate_pnl(self,shortsignal,longsignal):\n",
    "        def convert_indicies_to_realised_profit_long(self,signal,amount):\n",
    "            priceA = list(self.data['fAclose'])\n",
    "            i= 0\n",
    "            longsignal = list(signal.values())\n",
    "            pnl = np.zeros(len(priceA))\n",
    "            while i<len(longsignal):\n",
    "                if longsignal[i] == 0:\n",
    "                    pnl[i] = 0\n",
    "                    i+=1\n",
    "                else:\n",
    "                    pnl[i] = 0\n",
    "                    startprice = priceA[i]\n",
    "                    while longsignal[i] == 1 and i<len(longsignal):\n",
    "                        if i<len(longsignal)-1:\n",
    "                            i+=1\n",
    "                        else:\n",
    "                            break\n",
    "                    closeprice = priceA[i]\n",
    "                    pnl[i] = (closeprice-startprice)*amount\n",
    "                    i+=1\n",
    "            return(pnl)\n",
    "        pnl_short = self.convert_indicies_to_realised_profit_short(shortsignal,self.strat.S)\n",
    "        pnl_long = self.convert_indicies_to_realised_profit_short(longsignal,self.strat.L)\n",
    "\n",
    "        self.data['pnl_short'] = pnl_short\n",
    "        self.data['pnl_long'] = pnl_long\n",
    "        self.data['pnl'] = self.data['pnl_short'] +self.data['pnl_long']\n",
    "        \n",
    "    def plotcumpnl(self):\n",
    "        self.data['cumpnl'] = np.cumsum(list(self.data['pnl']))\n",
    "\n",
    "        plt.plot(self.data.index,list(self.data['cumpnl']))\n",
    "        plt.xlabel('Year')\n",
    "        plt.ylabel('realised pnl')\n",
    "        plt.show()\n",
    "        \n",
    "    def plotdrawdown(self):\n",
    "        absloss = []\n",
    "        for i in list(self.data['pnl']):\n",
    "            absloss.append(abs(min(0,i)))\n",
    "        self.data['absloss'] = absloss\n",
    "\n",
    "        maxprofitbeforeT = []\n",
    "        for i in range(len(list(self.data['pnl']))):\n",
    "            d = list(self.data['pnl'])\n",
    "            maxprofitbeforeT.append(max(d[:i+1]))\n",
    "\n",
    "        self.data['maxprofitbeforeT'] = maxprofitbeforeT\n",
    "\n",
    "        self.data['drawdown'] = self.data['absloss']/self.data['maxprofitbeforeT']\n",
    "\n",
    "        plt.plot(self.data.index,self.data['drawdown'])\n",
    "        plt.xlabel('Year')\n",
    "        plt.ylabel('Drawdown')\n",
    "\n"
   ]
  },
  {
   "cell_type": "code",
   "execution_count": null,
   "id": "fff6a841-0f4b-4a53-9132-d7547200acd3",
   "metadata": {},
   "outputs": [],
   "source": [
    "#define inputs\n",
    "X = 100\n",
    "Y = 110\n",
    "L = 120\n",
    "S =100\n",
    "N = 30\n",
    "strat = strategy(X,Y,L,S,N,fA,fB)\n",
    "\n",
    "#generate conditions for strategy\n",
    "df = strat.generateconditions()\n",
    "\n",
    "#save coniditons into an array format\n",
    "selldata = list(df['shortsignal'])\n",
    "longdata = list(df['longsignal'])\n",
    "\n",
    "#generate signals based on our conditions\n",
    "longsignal=strat.generate_buy_indicies(longdata)\n",
    "shortsignal = strat.generate_sell_indicies(selldata)\n",
    "\n",
    "#create a portfolio\n",
    "portfolio = Portfolio(df,strat)\n",
    "#generate our pnl\n",
    "portfolio.generate_pnl(shortsignal,longsignal)\n"
   ]
  },
  {
   "cell_type": "code",
   "execution_count": null,
   "id": "70654e0e-ad0c-4e40-bd0b-c179033834b9",
   "metadata": {},
   "outputs": [
    {
     "data": {
      "image/png": "[encoded data removed]",
      "text/plain": [
       "<Figure size 640x480 with 1 Axes>"
      ]
     },
     "metadata": {},
     "output_type": "display_data"
    }
   ],
   "source": [
    "#plot cumultive plot\n",
    "portfolio.plotcumpnl()"
   ]
  },
  {
   "cell_type": "code",
   "execution_count": null,
   "id": "8248dccd-4cdb-46ed-8e49-de1b802b8638",
   "metadata": {},
   "outputs": [
    {
     "data": {
      "image/png": "[encoded data removed]",
      "text/plain": [
       "<Figure size 640x480 with 1 Axes>"
      ]
     },
     "metadata": {},
     "output_type": "display_data"
    }
   ],
   "source": [
    "#compute drawdown\n",
    "portfolio.plotdrawdown()"
   ]
  }
 ],
 "metadata": {
  "kernelspec": {
   "display_name": "Python 3",
   "language": "python",
   "name": "python3"
  },
  "language_info": {
   "codemirror_mode": {
    "name": "ipython",
    "version": 3
   },
   "file_extension": ".py",
   "mimetype": "text/x-python",
   "name": "python",
   "nbconvert_exporter": "python",
   "pygments_lexer": "ipython3",
   "version": "3.11.0"
  },
  "vscode": {
   "interpreter": {
    "hash": "c261aea317cc0286b3b3261fbba9abdec21eaa57589985bb7a274bf54d6cc0a7"
   }
  }
 },
 "nbformat": 4,
 "nbformat_minor": 5
}
